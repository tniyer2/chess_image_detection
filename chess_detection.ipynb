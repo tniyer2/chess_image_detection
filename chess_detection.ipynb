{
 "cells": [
  {
   "cell_type": "code",
   "execution_count": 1,
   "source": [
    "import os.path\n",
    "import itertools\n",
    "import numpy as np\n",
    "import scipy.ndimage as ndi\n",
    "from skimage import io, color, filters, feature, segmentation, measure, draw, exposure\n",
    "from sklearn import cluster # scikit-learn: a machine learning library\n",
    "import matplotlib as mpl\n",
    "import matplotlib.pylab as plt\n",
    "import cv2\n",
    "plt.gray();"
   ],
   "outputs": [
    {
     "output_type": "display_data",
     "data": {
      "text/plain": [
       "<Figure size 432x288 with 0 Axes>"
      ]
     },
     "metadata": {}
    }
   ],
   "metadata": {}
  },
  {
   "cell_type": "code",
   "execution_count": 3,
   "source": [
    "mpl.rcParams['figure.figsize'] = (10,10)"
   ],
   "outputs": [],
   "metadata": {}
  },
  {
   "cell_type": "code",
   "execution_count": 2,
   "source": [
    "if os.path.isdir('ImageProcessingF2021'):\n",
    "    !git -C ImageProcessingF2021 pull\n",
    "else:\n",
    "    !git clone https://github.com/MoravianCollege/ImageProcessingF2021.git"
   ],
   "outputs": [
    {
     "output_type": "stream",
     "name": "stdout",
     "text": [
      "Cloning into 'ImageProcessingF2021'...\n",
      "remote: Enumerating objects: 111, done.\u001b[K\n",
      "remote: Counting objects: 100% (111/111), done.\u001b[K\n",
      "remote: Compressing objects: 100% (95/95), done.\u001b[K\n",
      "remote: Total 111 (delta 36), reused 91 (delta 16), pack-reused 0\u001b[K\n",
      "Receiving objects: 100% (111/111), 10.51 MiB | 42.53 MiB/s, done.\n",
      "Resolving deltas: 100% (36/36), done.\n"
     ]
    }
   ],
   "metadata": {}
  },
  {
   "cell_type": "code",
   "execution_count": null,
   "source": [],
   "outputs": [],
   "metadata": {}
  }
 ],
 "metadata": {
  "orig_nbformat": 4,
  "language_info": {
   "name": "python",
   "version": "3.9.7",
   "mimetype": "text/x-python",
   "codemirror_mode": {
    "name": "ipython",
    "version": 3
   },
   "pygments_lexer": "ipython3",
   "nbconvert_exporter": "python",
   "file_extension": ".py"
  },
  "kernelspec": {
   "name": "python3",
   "display_name": "Python 3.9.7 64-bit"
  },
  "interpreter": {
   "hash": "397704579725e15f5c7cb49fe5f0341eb7531c82d19f2c29d197e8b64ab5776b"
  }
 },
 "nbformat": 4,
 "nbformat_minor": 2
}